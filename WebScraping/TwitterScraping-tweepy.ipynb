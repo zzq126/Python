{
 "cells": [
  {
   "cell_type": "markdown",
   "metadata": {},
   "source": [
    "### Assignment04-Task 1: Use Tweepy to provide graph of sentiment analysis"
   ]
  },
  {
   "cell_type": "code",
   "execution_count": 16,
   "metadata": {
    "collapsed": true
   },
   "outputs": [],
   "source": [
    "import tweepy\n",
    "from textblob import TextBlob\n",
    "\n",
    "def getAuthData():\n",
    "    import csv\n",
    "    with open('/home/zzq/Downloads/Programming for analytics/wk7/authdata.csv', 'r') as f:\n",
    "        reader = csv.reader(f)\n",
    "        your_list = list(reader)\n",
    "\n",
    "    authdata = {}   \n",
    "    for element in your_list:\n",
    "        authdata[element[0]] = element[1]\n",
    "\n",
    "    return authdata"
   ]
  },
  {
   "cell_type": "code",
   "execution_count": null,
   "metadata": {
    "collapsed": true
   },
   "outputs": [],
   "source": [
    "def getTweepyData(SearchTerm,GeoCode,FileName):\n",
    "    authdata = getAuthData()\n",
    "    \n",
    "    CONSUMER_KEY = authdata['CONSUMER_KEY']\n",
    "    CONSUMER_SECRET = authdata['CONSUMER_SECRET']\n",
    "    OAUTH_TOKEN = authdata['OAUTH_TOKEN']\n",
    "    OAUTH_TOKEN_SECRET = authdata['OAUTH_TOKEN_SECRET']\n",
    "    \n",
    "    #get access to twitter api through oauth\n",
    "    auth = tweepy.OAuthHandler(CONSUMER_KEY, CONSUMER_SECRET)\n",
    "    auth.set_access_token(OAUTH_TOKEN,OAUTH_TOKEN_SECRET)\n",
    "    api = tweepy.API(auth)\n",
    "    \n",
    "    #use cursor to search \n",
    "    #use geocode to limit search results in certain areas\n",
    "    tweet_cursor = tweepy.Cursor(api.search,q=SearchTerm,geocode=GeoCode)\n",
    "    tweet_count = 0\n",
    "    tweet_texts = []\n",
    "    for tweet in tweet_cursor.items():\n",
    "        if tweet_count <= 1000:#use while lopp to limit our results to 1000\n",
    "            tweet_texts.append(tweet.text)\n",
    "            tweet_count += 1\n",
    "            \n",
    "        else:\n",
    "            break\n",
    "    with open (FileName,'w') as f:\n",
    "        f.writelines(tweet_texts)"
   ]
  },
  {
   "cell_type": "code",
   "execution_count": null,
   "metadata": {
    "collapsed": true
   },
   "outputs": [],
   "source": [
    "#Because twitter api has a rate time limit, so if you choose to run all the 8 commands together, \n",
    "#you will get an error of 429\n",
    "getTweepyData('Trump','44.31,-85.60,500mi','Trump_Michigan.txt')\n",
    "getTweepyData('Trump','39.13,-121.17,500mi','Trump_Nevada.txt')\n",
    "getTweepyData('Trump','43.78,-88.79,500mi', \"Trump_Wisconsin.txt\")\n",
    "getTweepyData('Trump', '40.42,-82.91,300mi',\"Trump_Ohio.txt\")\n",
    "getTweepyData('Clinton','44.31,-85.60,500mi', \"Clinton_Michigan.txt\")\n",
    "getTweepyData('Clinton','39.13,-121.17,500mi', \"Clinton_Nevada.txt\")\n",
    "getTweepyData('Clinton','43.78,-88.79,500mi', \"Clinton_Wisconsin.txt\")\n",
    "getTweepyData('Clinton','40.42,-82.91,300mi', \"Clinton_Ohio.txt\")"
   ]
  },
  {
   "cell_type": "code",
   "execution_count": 18,
   "metadata": {
    "collapsed": false
   },
   "outputs": [],
   "source": [
    "#clean the data \n",
    "def remove_punctuation(s):\n",
    "    punctuation = \"!\\\"#$%&'()*+,-./:;<=>?@[\\\\]^_`{|}~\"\n",
    "    s_sans_punct = \"\"\n",
    "    for letter in s:\n",
    "        if (letter not in punctuation) and (letter in \"abcdefghijklmnopqrstuvwxyz\"):\n",
    "            s_sans_punct += letter\n",
    "    return s_sans_punct\n",
    "\n",
    "def getLowerCaseText(status_texts):\n",
    "    lowered_texts = []\n",
    "    for texts in status_texts:\n",
    "        try: \n",
    "            mytext = str(texts.lower())\n",
    "            lowered_texts.append(mytext)\n",
    "        except:\n",
    "            pass\n",
    "    return lowered_texts\n",
    "\n",
    "def remove_stopwords(lowered_texts):\n",
    "    #self define stopword list\n",
    "    stopwords=['as','and','the','to','of','in','you','because','so']\n",
    "    #stop = stopwords.words('english') + ['rt', 'via']\n",
    "    good_words=[]\n",
    "    good_text= [text for text in lowered_texts if text not in stopwords]\n",
    "    good_words.append(good_text)\n",
    "    return good_words\n",
    "\n",
    "def getCleanedTweets(good_words):\n",
    "    cleanedTweets = []\n",
    "    for text in good_words:\n",
    "        wordlist = str(text).split()\n",
    "        wordlist_nopun = [ str(remove_punctuation(for_a_word)) for for_a_word in wordlist ]\n",
    "        cleanedTweets.append(wordlist_nopun)\n",
    "    return cleanedTweets\n",
    "\n",
    "#use textblob's polarity to conduct sentiment analysis\n",
    "def GetSentimentScores(cleanedTweets):\n",
    "    sentiment = []\n",
    "    for eachTweet in cleanedTweets:\n",
    "        analysis = TextBlob(str(eachTweet))   \n",
    "        sentiment.append(analysis.sentiment.polarity)\n",
    "    return sentiment\n",
    "\n",
    "def getScore(FileName):\n",
    "    with open(FileName,'r') as f:\n",
    "        tweetTexts = f.readlines()\n",
    "    lowered_texts = getLowerCaseText(tweetTexts)\n",
    "    good_words = remove_stopwords(lowered_texts)\n",
    "    cleanedTweets = getCleanedTweets(good_words)\n",
    "    sentiment = GetSentimentScores(cleanedTweets)\n",
    "    #get the average sentiment score\n",
    "    #because the polarity is between -1 and 1, we transfer the score to 0-100\n",
    "    score = sum(sentiment)/len(sentiment)*50+50 \n",
    "    return(score)"
   ]
  },
  {
   "cell_type": "code",
   "execution_count": 19,
   "metadata": {
    "collapsed": false
   },
   "outputs": [
    {
     "name": "stdout",
     "output_type": "stream",
     "text": [
      "             Clinton      Trump\n",
      "Michigan   53.235950  53.976046\n",
      "Nevada     54.205485  56.690123\n",
      "Wisconsin  54.657671  56.374087\n",
      "Ohio       52.301698  53.821440\n"
     ]
    },
    {
     "data": {
      "text/plain": [
       "<matplotlib.text.Text at 0x7f2362d7d748>"
      ]
     },
     "execution_count": 19,
     "metadata": {},
     "output_type": "execute_result"
    },
    {
     "data": {
      "image/png": "[encoded data removed]",
      "text/plain": [
       "<matplotlib.figure.Figure at 0x7f2362decb00>"
      ]
     },
     "metadata": {},
     "output_type": "display_data"
    }
   ],
   "source": [
    "import matplotlib.pyplot as plt\n",
    "import numpy as np\n",
    "import pandas as pd\n",
    "import matplotlib\n",
    "\n",
    "TM = getScore('Trump_Michigan.txt')\n",
    "TN = getScore('Trump_Nevada.txt')\n",
    "TW = getScore('Trump_Wisconsin.txt')\n",
    "TO = getScore('Trump_Ohio.txt')\n",
    "CM = getScore('Clinton_Michigan.txt')\n",
    "CN = getScore('Clinton_Nevada.txt')\n",
    "CW = getScore('Clinton_Wisconsin.txt')\n",
    "CO = getScore('Clinton_Ohio.txt')\n",
    "\n",
    "#create a dataframe of scores \n",
    "data = {\"Trump\":[TM,TN,TW,TO],\"Clinton\":[CM,CN,CW,CO]}\n",
    "dfScore = pd.DataFrame(data,index=[\"Michigan\",\"Nevada\",\"Wisconsin\",\"Ohio\"])\n",
    "print(dfScore)\n",
    "\n",
    "%matplotlib inline\n",
    "matplotlib.style.use('ggplot') \n",
    "#plot the bar of scores\n",
    "dfScore.plot(kind=\"barh\")\n",
    "plt.title(\"Clinton and Trump in Tweepy\")"
   ]
  },
  {
   "cell_type": "code",
   "execution_count": null,
   "metadata": {
    "collapsed": true
   },
   "outputs": [],
   "source": []
  }
 ],
 "metadata": {
  "anaconda-cloud": {},
  "kernelspec": {
   "display_name": "Python [Root]",
   "language": "python",
   "name": "Python [Root]"
  },
  "language_info": {
   "codemirror_mode": {
    "name": "ipython",
    "version": 3
   },
   "file_extension": ".py",
   "mimetype": "text/x-python",
   "name": "python",
   "nbconvert_exporter": "python",
   "pygments_lexer": "ipython3",
   "version": "3.5.2"
  }
 },
 "nbformat": 4,
 "nbformat_minor": 1
}
