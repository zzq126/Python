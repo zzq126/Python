{
 "cells": [
  {
   "cell_type": "markdown",
   "metadata": {},
   "source": [
    "### Assignment04-Task2: Use Twython to graph sentiment analysis on twitter"
   ]
  },
  {
   "cell_type": "code",
   "execution_count": 1,
   "metadata": {
    "collapsed": true
   },
   "outputs": [],
   "source": [
    "from twython import Twython\n",
    "from textblob import TextBlob\n",
    "\n",
    "def getAuthData():\n",
    "    import csv\n",
    "    with open('authdata.csv', 'r') as f:\n",
    "        reader = csv.reader(f)\n",
    "        your_list = list(reader)\n",
    "\n",
    "    authdata = {}   \n",
    "    for element in your_list:\n",
    "        authdata[element[0]] = element[1]\n",
    "\n",
    "    return authdata"
   ]
  },
  {
   "cell_type": "code",
   "execution_count": 13,
   "metadata": {
    "collapsed": true
   },
   "outputs": [],
   "source": [
    "def getTwythonData(SearchTerm,GeoCode,FileName):\n",
    "    authdata = getAuthData()\n",
    "    \n",
    "    CONSUMER_KEY = authdata['CONSUMER_KEY']\n",
    "    CONSUMER_SECRET = authdata['CONSUMER_SECRET']\n",
    "    OAUTH_TOKEN = authdata['OAUTH_TOKEN']\n",
    "    OAUTH_TOKEN_SECRET = authdata['OAUTH_TOKEN_SECRET']\n",
    "    \n",
    "    #get access to twitter api through oauth\n",
    "    twitter = Twython(CONSUMER_KEY, CONSUMER_SECRET,OAUTH_TOKEN,OAUTH_TOKEN_SECRET)\n",
    "    \n",
    "    #use cursor to search \n",
    "    #use geocode to limit the search result to certain areas we want\n",
    "    results = twitter.cursor(twitter.search,q=SearchTerm,geocode=GeoCode)\n",
    "    tweet_count = 0\n",
    "    tweet_texts = []\n",
    "    for tweet in results:\n",
    "        if tweet_count <= 1000:#limit the search tweets to 1000\n",
    "            tweet_texts.append(str(tweet))\n",
    "            tweet_count += 1\n",
    "            \n",
    "        else:\n",
    "            break\n",
    "    with open (FileName,'w') as f: #tranform the data we got to a file\n",
    "        f.writelines(tweet_texts)"
   ]
  },
  {
   "cell_type": "code",
   "execution_count": null,
   "metadata": {
    "collapsed": true
   },
   "outputs": [],
   "source": [
    "getTwythonData('Trump','44.31,-85.60,500mi','Trump_michigan_twython.txt')\n",
    "getTwythonData('Trump','39.13,-121.17,500mi','Trump_nevada_twython.txt')\n",
    "getTweepyData('Trump','43.78,-88.79,500mi', \"Trump_wisconsin_twython.txt\")\n",
    "getTwythonData('Trump', '40.42,-82.91,300mi',\"Trump_ohio_twython.txt\")\n",
    "getTwythonData('Clinton','44.31,-85.60,500mi', \"Clinton_michigan_twython.txt\")\n",
    "getTwythonData('Clinton','39.13,-121.17,500mi', \"Clinton_nevada_twython.txt\")\n",
    "getTwythonData('Clinton','43.78,-88.79,500mi', \"Clinton_wisconsin_twython.txt\")\n",
    "getTwythonData('Clinton','40.42,-82.91,300mi', \"Clinton_ohio_twython.txt\")"
   ]
  },
  {
   "cell_type": "code",
   "execution_count": 2,
   "metadata": {
    "collapsed": true
   },
   "outputs": [],
   "source": [
    "#clean the date\n",
    "def remove_punctuation(s):\n",
    "    punctuation = \"!\\\"#$%&'()*+,-./:;<=>?@[\\\\]^_`{|}~\"\n",
    "    s_sans_punct = \"\"\n",
    "    for letter in s:\n",
    "        if (letter not in punctuation) and (letter in \"abcdefghijklmnopqrstuvwxyz\"):\n",
    "            s_sans_punct += letter\n",
    "    return s_sans_punct\n",
    "\n",
    "def getLowerCaseText(status_texts):\n",
    "    lowered_texts = []\n",
    "    for texts in status_texts:\n",
    "        try: \n",
    "            mytext = str(texts.lower())\n",
    "            lowered_texts.append(mytext)\n",
    "        except:\n",
    "            pass\n",
    "    return lowered_texts\n",
    "\n",
    "def remove_stopwords(lowered_texts):\n",
    "    #self define stopword list\n",
    "    stopwords=['as','and','the','to','of','in','you','because','so']\n",
    "    #stop = stopwords.words('english') + ['rt', 'via']\n",
    "    good_words=[]\n",
    "    good_text= [text for text in lowered_texts if text not in stopwords]\n",
    "    good_words.append(good_text)\n",
    "    return good_words\n",
    "\n",
    "def getCleanedTweets(good_words):\n",
    "    cleanedTweets = []\n",
    "    for text in good_words:\n",
    "        wordlist = str(text).split()\n",
    "        wordlist_nopun = [ str(remove_punctuation(for_a_word)) for for_a_word in wordlist ]\n",
    "        cleanedTweets.append(wordlist_nopun)\n",
    "    return cleanedTweets\n",
    "\n",
    "def GetSentimentScores(cleanedTweets):\n",
    "    sentiment = []\n",
    "    for eachTweet in cleanedTweets:\n",
    "        analysis = TextBlob(str(eachTweet))\n",
    "        #use textblob's polarity to conduct sentiment analysis\n",
    "        sentiment.append(analysis.sentiment.polarity)\n",
    "    return sentiment\n",
    "\n",
    "def getScore(FileName):\n",
    "    with open(FileName,'r') as f:\n",
    "        tweetTexts = f.readlines()\n",
    "    lowered_texts = getLowerCaseText(tweetTexts)\n",
    "    good_words = remove_stopwords(lowered_texts)\n",
    "    cleanedTweets = getCleanedTweets(good_words)\n",
    "    sentiment = GetSentimentScores(cleanedTweets)\n",
    "    #get the average score\n",
    "    #because the polarity's score is between -1 and 1, we transfer the score to 0-100\n",
    "    score = sum(sentiment)/len(sentiment)*50+50\n",
    "    return(score)"
   ]
  },
  {
   "cell_type": "code",
   "execution_count": 3,
   "metadata": {
    "collapsed": false
   },
   "outputs": [
    {
     "name": "stdout",
     "output_type": "stream",
     "text": [
      "             Clinton      Trump\n",
      "Michigan   40.345088  39.505964\n",
      "Nevada     38.176361  40.615308\n",
      "Wisconsin  38.634686  50.918756\n",
      "Ohio       40.437415  40.961687\n"
     ]
    },
    {
     "data": {
      "text/plain": [
       "<matplotlib.text.Text at 0x7f944664e320>"
      ]
     },
     "execution_count": 3,
     "metadata": {},
     "output_type": "execute_result"
    },
    {
     "data": {
      "image/png": "[encoded data removed]",
      "text/plain": [
       "<matplotlib.figure.Figure at 0x7f943ed1d9e8>"
      ]
     },
     "metadata": {},
     "output_type": "display_data"
    }
   ],
   "source": [
    "import matplotlib.pyplot as plt\n",
    "import numpy as np\n",
    "import pandas as pd\n",
    "import matplotlib\n",
    "\n",
    "TM_twython = getScore('Trump_michigan_twython.txt')\n",
    "TN_twython= getScore('Trump_nevada_twython.txt')\n",
    "TW_twython = getScore('Trump_wisconsin_twython.txt')\n",
    "TO_twython = getScore('Trump_ohio_twython.txt')\n",
    "CM_twython = getScore('Clinton_michigan_twython.txt')\n",
    "CN_twython = getScore('Clinton_nevada_twython.txt')\n",
    "CW_twython = getScore('Clinton_wisconsin_twython.txt')\n",
    "CO_twython = getScore('Clinton_ohio_twython.txt')\n",
    "\n",
    "#use dictionary to create data frame of scores\n",
    "data = {\"Trump\":[TM_twython,TN_twython,TW_twython,TO_twython],\"Clinton\":[CM_twython,CN_twython,CW_twython,CO_twython]}\n",
    "dfScore2 = pd.DataFrame(data,index=[\"Michigan\",\"Nevada\",\"Wisconsin\",\"Ohio\"])\n",
    "print(dfScore2)\n",
    "\n",
    "%matplotlib inline\n",
    "matplotlib.style.use('ggplot') \n",
    "#create bars of scores\n",
    "dfScore2.plot(kind=\"barh\")\n",
    "plt.title(\"Clinton and Trump in Twython\")"
   ]
  },
  {
   "cell_type": "code",
   "execution_count": null,
   "metadata": {
    "collapsed": true
   },
   "outputs": [],
   "source": []
  }
 ],
 "metadata": {
  "anaconda-cloud": {},
  "kernelspec": {
   "display_name": "Python [Root]",
   "language": "python",
   "name": "Python [Root]"
  },
  "language_info": {
   "codemirror_mode": {
    "name": "ipython",
    "version": 3
   },
   "file_extension": ".py",
   "mimetype": "text/x-python",
   "name": "python",
   "nbconvert_exporter": "python",
   "pygments_lexer": "ipython3",
   "version": "3.5.2"
  }
 },
 "nbformat": 4,
 "nbformat_minor": 1
}
