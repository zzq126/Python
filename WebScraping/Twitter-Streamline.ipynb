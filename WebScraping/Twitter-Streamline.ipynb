{
 "cells": [
  {
   "cell_type": "markdown",
   "metadata": {},
   "source": [
    "### Streaming\n",
    "\n",
    "#### Question: Explain what a streaming framework is and how it works (150 words max).\n",
    "\n",
    "#### a. What streaming framework is:\n",
    "The Streaming APIs give developers low latency access to Twitter’s global stream of Tweet data. A proper implementation of a streaming client will be pushed messages indicating Tweets and other events have occurred, without any of the overhead associated with polling a REST endpoint.\n",
    "Twitter offers several streaming endpoints, each customized to certain use cases, such as public streams, user streams and site streams.\n",
    "\t\n",
    "#### b. How streaming works:\n",
    "* 1.Connect to a streaming endpoint:\n",
    "Establishing a connection to streaming APIs means making a very long lived HTTP request, and parsing the response incrementally. \n",
    "* 2.Set streaming API request parameters\n",
    "For example: delimited, stall_warnings, filter_level, language, follow, track, locations, count, with, replies, stringify_friend_id\n",
    "* 3.Set streaming API message types\n",
    "* 4.process streaming data\n",
    "\n",
    "#### References:\n",
    "* https://dev.twitter.com/streaming/overview\n",
    "* https://twython.readthedocs.io/en/latest/usage/streaming_api.html#\n"
   ]
  },
  {
   "cell_type": "markdown",
   "metadata": {},
   "source": [
    "### Code of Streaming API: "
   ]
  },
  {
   "cell_type": "code",
   "execution_count": 38,
   "metadata": {
    "collapsed": true
   },
   "outputs": [],
   "source": [
    "def getAuthData():\n",
    "    import csv\n",
    "    with open('authdata.csv', 'r') as f:\n",
    "        reader = csv.reader(f)\n",
    "        your_list = list(reader)\n",
    "\n",
    "    authdata = {}   \n",
    "    for element in your_list:\n",
    "        authdata[element[0]] = element[1]\n",
    "\n",
    "    return authdata"
   ]
  },
  {
   "cell_type": "markdown",
   "metadata": {},
   "source": [
    "### Approach 1: use streaming by using tweepy"
   ]
  },
  {
   "cell_type": "code",
   "execution_count": 6,
   "metadata": {
    "collapsed": false
   },
   "outputs": [
    {
     "name": "stdout",
     "output_type": "stream",
     "text": [
      "Error on status 420\n",
      "['RT @CBS12: PHOTOS | Artist mows giant Trump portrait in Italian cornfield. https://t.co/EJUX8EvkfV https://t.co/3zYlFOrza2', \"US election daily dig: Clinton's Death Row chic: With 12 days to go, Donald Trump touts his new Washington DC... https://t.co/aKUhELo8CA\", 'RT @WesleyRickard: 10-26-2016 yesterday Donald Trump made 8 stops across the United States he stops here for Grand Opening and Dana Ba… ', \"RT @baytato: Good morning everyone especially the person who destroyed Donald Trump's walk of fame star https://t.co/IcBthxMPd9\", 'RT @Evan_McMullin: With Trump as the nominee, the GOP has gotten away from the fundamental truths upon which America was founded &amp; we aim t…', 'RT @kerpen: Employees of the DOJ, which investigated Clinton’s use of a private server, gave Clinton 97%(!) of their donations.\\nhttps://t.c…', \"RT @ScottAdamsSays: Follow my online war with the Clinton bullies. Here's context: https://t.co/SY0CGMT0AN #Trump #ClintonBullies\", 'RT @asamjulian: MUST WATCH: MSNBC interviews black women voters about Donald Trump. Very powerful! Share this video! https://t.co/tSe3eshcdM', 'RT @TPoliticmanager: This Is The Trump I Am Voting For https://t.co/adi2U3waIY https://t.co/uxkiwdIevY', 'Amish Pledge Trump \"Mathematically Guaranteeing Him To Win Election\" https://t.co/BmTdzyxNpv|kK']\n"
     ]
    }
   ],
   "source": [
    "import tweepy\n",
    "from tweepy.streaming import StreamListener\n",
    "from tweepy import OAuthHandler\n",
    "from tweepy import Stream\n",
    "\n",
    "authdata = getAuthData()\n",
    "CONSUMER_KEY = authdata['CONSUMER_KEY']\n",
    "CONSUMER_SECRET = authdata['CONSUMER_SECRET']\n",
    "OAUTH_TOKEN = authdata['OAUTH_TOKEN']\n",
    "OAUTH_TOKEN_SECRET = authdata['OAUTH_TOKEN_SECRET']\n",
    "\n",
    "#get access to twitter api through auth\n",
    "auth = tweepy.OAuthHandler(CONSUMER_KEY, CONSUMER_SECRET)\n",
    "auth.set_access_token(OAUTH_TOKEN,OAUTH_TOKEN_SECRET)\n",
    "\n",
    "twittertext = []\n",
    "class StdoutListener(StreamListener):\n",
    "    def __init__(self, api=None):\n",
    "        super(StdoutListener, self).__init__()\n",
    "        self.num_tweets = 0\n",
    "\n",
    "    def on_status(self, status):#function of what we do with the data obtained from twitter\n",
    "        self.num_tweets += 1\n",
    "        if self.num_tweets <= 10: #while loop: limit 10 tweets\n",
    "        # If you use 1000 here, definitely you will meet \"Limit threshold exceeded\"\n",
    "        # So I change 1000 to 10 just to verify the correction of the code can avoid this problem\n",
    "            twittertext.append(status.text)\n",
    "            return True\n",
    "        else:\n",
    "            return False \n",
    "               \n",
    "    def on_error(self, status_code):\n",
    "        print ('Error on status', status_code)\n",
    "\n",
    "    def on_limit(self, status):\n",
    "        print ('Limit threshold exceeded', status)\n",
    "\n",
    "    def on_timeout(self, status):\n",
    "        print ('Stream disconnected; continuing...')\n",
    "\n",
    "\n",
    "stream = Stream(auth, StdoutListener())\n",
    "stream.filter(track=[\"Trump\"],locations=[44.31,-85.60,45.31,-84.60])\n",
    "# Show 10 twitterText\n",
    "print ([i for i in twitterText[:10]])  \n",
    "\n",
    "# Save the twitter data in txt file\n",
    "with open(\"trump_michigan_tweepystream.txt\", \"w\") as f:\n",
    "    f.writelines(twitterText)\n"
   ]
  },
  {
   "cell_type": "code",
   "execution_count": null,
   "metadata": {
    "collapsed": true
   },
   "outputs": [],
   "source": []
  }
 ],
 "metadata": {
  "anaconda-cloud": {},
  "kernelspec": {
   "display_name": "Python [Root]",
   "language": "python",
   "name": "Python [Root]"
  },
  "language_info": {
   "codemirror_mode": {
    "name": "ipython",
    "version": 3
   },
   "file_extension": ".py",
   "mimetype": "text/x-python",
   "name": "python",
   "nbconvert_exporter": "python",
   "pygments_lexer": "ipython3",
   "version": "3.5.2"
  }
 },
 "nbformat": 4,
 "nbformat_minor": 1
}
